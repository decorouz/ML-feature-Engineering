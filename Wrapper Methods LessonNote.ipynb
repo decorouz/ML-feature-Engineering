{
 "cells": [
  {
   "cell_type": "markdown",
   "id": "3d05be96",
   "metadata": {},
   "source": [
    "## Wrapper Methods\n",
    "Machine learning problems often involve datasets with many features. Some of those features might be very important for a specific machine learning model. Other features might be irrelevant. Given a feature set and a model, we would like to be able to distinguish between important and unimportant features (or even important combinations of features). Wrapper methods do exactly that.\n",
    "\n",
    "\n",
    "#### Setting Up a Logistic Regression Model\n",
    "Before we can use the wrapper method we need to specify the machine learning model.\n",
    "\n",
    "**Logistic Regression** Give a probability that an observation belongs to a category.\n",
    "\n",
    "#### Sequential Forward Selection\n",
    "Sequential forward selection is a wrapper method that builds a feature set by starting with no features and then adding one feature at a time until a desired number of features is reached\n",
    "\n",
    "\n",
    "#### Sequential Forward Selection with mlxtend\n"
   ]
  },
  {
   "cell_type": "code",
   "execution_count": 62,
   "id": "a2b4e49e",
   "metadata": {},
   "outputs": [],
   "source": [
    "import pandas as pd\n",
    "from sklearn.linear_model import LogisticRegression\n",
    "from mlxtend.feature_selection import SequentialFeatureSelector as SFS\n",
    "from mlxtend.plotting import plot_sequential_feature_selection as plot_sfs\n",
    "import matplotlib.pyplot as plt\n",
    "\n"
   ]
  },
  {
   "cell_type": "code",
   "execution_count": 63,
   "id": "a16cc7a1",
   "metadata": {},
   "outputs": [
    {
     "data": {
      "text/plain": [
       "SequentialFeatureSelector(cv=0, estimator=LogisticRegression(max_iter=1000),\n",
       "                          k_features=3, scoring='accuracy')"
      ]
     },
     "execution_count": 63,
     "metadata": {},
     "output_type": "execute_result"
    }
   ],
   "source": [
    "# Load the data\n",
    "health = pd.read_csv(\"../../../Downloads/data-bank/dataR2.csv\")\n",
    "\n",
    "X = health.iloc[:,:-1]\n",
    "y = health.iloc[:,-1]\n",
    "\n",
    "# Logistic Regression model\n",
    "lr = LogisticRegression(max_iter=1000)\n",
    "\n",
    "# Sequential forward selection\n",
    "sfs = SFS(lr, k_features=3, forward=True, floating=False,\n",
    "         scoring=\"accuracy\", cv=0)\n",
    "\n",
    "# Fit the equential forward selection model\n",
    "sfs.fit(X,y)\n",
    "\n"
   ]
  },
  {
   "cell_type": "markdown",
   "id": "62ce3039",
   "metadata": {},
   "source": [
    "#### Evaluating the result of sequential forward selection"
   ]
  },
  {
   "cell_type": "code",
   "execution_count": 65,
   "id": "63940d4c",
   "metadata": {},
   "outputs": [
    {
     "data": {
      "text/plain": [
       "{1: {'feature_idx': (2,),\n",
       "  'cv_scores': array([0.72413793]),\n",
       "  'avg_score': 0.7241379310344828,\n",
       "  'feature_names': ('Glucose',)},\n",
       " 2: {'feature_idx': (0, 2),\n",
       "  'cv_scores': array([0.73275862]),\n",
       "  'avg_score': 0.7327586206896551,\n",
       "  'feature_names': ('Age', 'Glucose')},\n",
       " 3: {'feature_idx': (0, 2, 3),\n",
       "  'cv_scores': array([0.76724138]),\n",
       "  'avg_score': 0.7672413793103449,\n",
       "  'feature_names': ('Age', 'Glucose', 'Insulin')}}"
      ]
     },
     "execution_count": 65,
     "metadata": {},
     "output_type": "execute_result"
    }
   ],
   "source": [
    "sfs.subsets_"
   ]
  },
  {
   "cell_type": "code",
   "execution_count": 66,
   "id": "8a937c6b",
   "metadata": {},
   "outputs": [
    {
     "name": "stderr",
     "output_type": "stream",
     "text": [
      "/Users/user/opt/miniconda3/envs/myenv/lib/python3.9/site-packages/numpy/core/_methods.py:262: RuntimeWarning: Degrees of freedom <= 0 for slice\n",
      "  ret = _var(a, axis=axis, dtype=dtype, out=out, ddof=ddof,\n",
      "/Users/user/opt/miniconda3/envs/myenv/lib/python3.9/site-packages/numpy/core/_methods.py:254: RuntimeWarning: invalid value encountered in double_scalars\n",
      "  ret = ret.dtype.type(ret / rcount)\n"
     ]
    },
    {
     "data": {
      "image/png": "[encoded data removed]",
      "text/plain": [
       "<Figure size 432x288 with 1 Axes>"
      ]
     },
     "metadata": {
      "needs_background": "light"
     },
     "output_type": "display_data"
    }
   ],
   "source": [
    "# Print the chosen feature names\n",
    "sfs.subsets_[3][\"feature_names\"]\n",
    "\n",
    "# Print the accuracy of the model after sequential forward selection\n",
    "sfs.subsets_[3][\"avg_score\"]\n",
    "\n",
    "# Print the accuracy of the model after sequential forward selection\n",
    "plot_sfs(sfs.get_metric_dict())\n",
    "plt.show()\n"
   ]
  },
  {
   "cell_type": "markdown",
   "id": "c6a24670",
   "metadata": {},
   "source": [
    "#### Sequential Backward Selection with mlxtend\n",
    "\n",
    "Sequential backward selection is another wrapper method for feature selection. It is very similar to sequential forward selection, but there is one key difference. Instead of starting with no features and adding one feature at a time, sequential backward selection starts with all of the available features and removes one feature at a time."
   ]
  },
  {
   "cell_type": "code",
   "execution_count": 67,
   "id": "901498cd",
   "metadata": {},
   "outputs": [
    {
     "data": {
      "text/plain": [
       "{9: {'feature_idx': (0, 1, 2, 3, 4, 5, 6, 7, 8),\n",
       "  'cv_scores': array([0.80172414]),\n",
       "  'avg_score': 0.8017241379310345,\n",
       "  'feature_names': ('Age',\n",
       "   'BMI',\n",
       "   'Glucose',\n",
       "   'Insulin',\n",
       "   'HOMA',\n",
       "   'Leptin',\n",
       "   'Adiponectin',\n",
       "   'Resistin',\n",
       "   'MCP.1')},\n",
       " 8: {'feature_idx': (0, 1, 2, 3, 4, 5, 6, 7),\n",
       "  'cv_scores': array([0.80172414]),\n",
       "  'avg_score': 0.8017241379310345,\n",
       "  'feature_names': ('Age',\n",
       "   'BMI',\n",
       "   'Glucose',\n",
       "   'Insulin',\n",
       "   'HOMA',\n",
       "   'Leptin',\n",
       "   'Adiponectin',\n",
       "   'Resistin')},\n",
       " 7: {'feature_idx': (0, 1, 2, 3, 4, 5, 7),\n",
       "  'cv_scores': array([0.80172414]),\n",
       "  'avg_score': 0.8017241379310345,\n",
       "  'feature_names': ('Age',\n",
       "   'BMI',\n",
       "   'Glucose',\n",
       "   'Insulin',\n",
       "   'HOMA',\n",
       "   'Leptin',\n",
       "   'Resistin')},\n",
       " 6: {'feature_idx': (0, 1, 2, 3, 5, 7),\n",
       "  'cv_scores': array([0.80172414]),\n",
       "  'avg_score': 0.8017241379310345,\n",
       "  'feature_names': ('Age', 'BMI', 'Glucose', 'Insulin', 'Leptin', 'Resistin')},\n",
       " 5: {'feature_idx': (0, 1, 2, 3, 7),\n",
       "  'cv_scores': array([0.79310345]),\n",
       "  'avg_score': 0.7931034482758621,\n",
       "  'feature_names': ('Age', 'BMI', 'Glucose', 'Insulin', 'Resistin')},\n",
       " 4: {'feature_idx': (0, 1, 2, 7),\n",
       "  'cv_scores': array([0.76724138]),\n",
       "  'avg_score': 0.7672413793103449,\n",
       "  'feature_names': ('Age', 'BMI', 'Glucose', 'Resistin')},\n",
       " 3: {'feature_idx': (0, 2, 7),\n",
       "  'cv_scores': array([0.74137931]),\n",
       "  'avg_score': 0.7413793103448276,\n",
       "  'feature_names': ('Age', 'Glucose', 'Resistin')}}"
      ]
     },
     "execution_count": 67,
     "metadata": {},
     "output_type": "execute_result"
    }
   ],
   "source": [
    "\n",
    "# Sequential forward selection\n",
    "sbs = SFS(lr, k_features=3, forward=False, floating=False,\n",
    "         scoring=\"accuracy\", cv=0)\n",
    "\n",
    "# Fit the equential forward selection model\n",
    "sbs.fit(X,y)\n",
    "sbs.subsets_"
   ]
  },
  {
   "cell_type": "markdown",
   "id": "f68c938b",
   "metadata": {},
   "source": [
    "#### Evaluating the result of sequential forward selection"
   ]
  },
  {
   "cell_type": "code",
   "execution_count": 73,
   "id": "4a1f914a",
   "metadata": {},
   "outputs": [
    {
     "data": {
      "text/plain": [
       "0.7413793103448276"
      ]
     },
     "execution_count": 73,
     "metadata": {},
     "output_type": "execute_result"
    }
   ],
   "source": [
    "# Print the chosen feature names\n",
    "sbs.subsets_[3][\"feature_names\"]\n",
    "\n",
    "# Print the accuracy of the model after sequential backward selection\n",
    "sbs.subsets_[3][\"avg_score\"]\n"
   ]
  },
  {
   "cell_type": "code",
   "execution_count": 74,
   "id": "f48e2544",
   "metadata": {},
   "outputs": [
    {
     "name": "stderr",
     "output_type": "stream",
     "text": [
      "/Users/user/opt/miniconda3/envs/myenv/lib/python3.9/site-packages/numpy/core/_methods.py:262: RuntimeWarning: Degrees of freedom <= 0 for slice\n",
      "  ret = _var(a, axis=axis, dtype=dtype, out=out, ddof=ddof,\n",
      "/Users/user/opt/miniconda3/envs/myenv/lib/python3.9/site-packages/numpy/core/_methods.py:254: RuntimeWarning: invalid value encountered in double_scalars\n",
      "  ret = ret.dtype.type(ret / rcount)\n"
     ]
    },
    {
     "data": {
      "image/png": "[encoded data removed]",
      "text/plain": [
       "<Figure size 432x288 with 1 Axes>"
      ]
     },
     "metadata": {
      "needs_background": "light"
     },
     "output_type": "display_data"
    }
   ],
   "source": [
    "# Plot the model accuracy\n",
    "\n",
    "plot_sfs(sbs.get_metric_dict())\n",
    "plt.show()"
   ]
  },
  {
   "cell_type": "code",
   "execution_count": null,
   "id": "ec97b8d7",
   "metadata": {},
   "outputs": [],
   "source": []
  }
 ],
 "metadata": {
  "kernelspec": {
   "display_name": "Python 3",
   "language": "python",
   "name": "python3"
  },
  "language_info": {
   "codemirror_mode": {
    "name": "ipython",
    "version": 3
   },
   "file_extension": ".py",
   "mimetype": "text/x-python",
   "name": "python",
   "nbconvert_exporter": "python",
   "pygments_lexer": "ipython3",
   "version": "3.9.6"
  }
 },
 "nbformat": 4,
 "nbformat_minor": 5
}

{
 "cells": [
  {
   "cell_type": "code",
   "execution_count": 197,
   "id": "81e71525",
   "metadata": {},
   "outputs": [],
   "source": [
    "import pandas as pd\n",
    "from sklearn.linear_model import Lasso\n",
    "\n",
    "# Load the dataset\n",
    "df = pd.read_csv(\"wrapper_methods_project/data/student/student-mat.csv\", sep=\";\")   "
   ]
  },
  {
   "cell_type": "code",
   "execution_count": 198,
   "id": "08ae3175",
   "metadata": {},
   "outputs": [],
   "source": [
    "# Encode the variables\n",
    "data = pd.get_dummies(df)"
   ]
  },
  {
   "cell_type": "markdown",
   "id": "b8f11f3c",
   "metadata": {},
   "source": [
    "We set our predictor and outcome variables and perform a train-test-split:"
   ]
  },
  {
   "cell_type": "code",
   "execution_count": 199,
   "id": "7b8964f9",
   "metadata": {},
   "outputs": [],
   "source": [
    "from sklearn.model_selection import train_test_split\n",
    "X = data.drop(columns=[\"G3\"])\n",
    "y = data[\"G3\"]\n",
    "\n",
    "X_train, X_test, y_train, y_test = train_test_split(X, y, test_size=0.33, random_state=59)\n",
    "\n"
   ]
  },
  {
   "cell_type": "markdown",
   "id": "8582b6ee",
   "metadata": {},
   "source": [
    "We’re now ready to fit a Lasso regularized regression model by using the `Lasso()` function from the linear_model module:"
   ]
  },
  {
   "cell_type": "code",
   "execution_count": 200,
   "id": "86c4747d",
   "metadata": {},
   "outputs": [
    {
     "data": {
      "text/plain": [
       "Lasso(alpha=0.05)"
      ]
     },
     "execution_count": 200,
     "metadata": {},
     "output_type": "execute_result"
    }
   ],
   "source": [
    "lasso = Lasso(alpha=0.05)\n",
    "lasso.fit(X_train, y_train)"
   ]
  },
  {
   "cell_type": "markdown",
   "id": "7919c88b",
   "metadata": {},
   "source": [
    "We’re going to look at the Mean Squared Error (MSE) using a function from the `metrics` module:"
   ]
  },
  {
   "cell_type": "code",
   "execution_count": 201,
   "id": "fd7ee726",
   "metadata": {},
   "outputs": [
    {
     "name": "stdout",
     "output_type": "stream",
     "text": [
      "Training Error: 3.1166850450733663 \n",
      "Test Error: 4.107656922299011 \n"
     ]
    }
   ],
   "source": [
    "from sklearn.metrics import mean_squared_error\n",
    "\n",
    "pred_train = lasso.predict(X_train)\n",
    "pred_test = lasso.predict(X_test)\n",
    "training_mse = mean_squared_error(y_train, pred_train)\n",
    "test_mse = mean_squared_error(y_test, pred_test)\n",
    "\n",
    "print(f\"Training Error: {training_mse} \")\n",
    "print(f\"Test Error: {test_mse} \")"
   ]
  },
  {
   "cell_type": "markdown",
   "id": "9e9d2e7d",
   "metadata": {},
   "source": [
    "We see that the test error is more than that of the training error. This is an indicator that the model is still overfitting the data and that there is room to regularize more."
   ]
  },
  {
   "cell_type": "markdown",
   "id": "ff260439",
   "metadata": {},
   "source": [
    "## Tuning the Regularization Hyperparameter\n",
    "**Automate the Hyperparameter Search with GridsearchCV**:\n",
    "\n",
    "`GridSearchCV` uses a “k-fold” cross-validation method to search for the optimal hyperparemeter in a machine learning algorithm. The k-fold method iteratively splits the dataset into train-test splits “k” times such that every point in the sample gets to be within the test data at least once. For instance, if we wanted to do 5-fold cross-validation, our data would be split into a 80:20 train-test split five times. To visualize this, imagine that our data is contained within this green box as shown below:"
   ]
  },
  {
   "cell_type": "markdown",
   "id": "a3474ef6",
   "metadata": {},
   "source": [
    "Consider our implementation of Lasso on the student performance dataset. Suppose we wanted to check the result of implementing different values of alpha and wanted to do multiple train-test splits to make sure we’re covering the entire sample. We could do this in one line as follows:"
   ]
  },
  {
   "cell_type": "code",
   "execution_count": 202,
   "id": "d495f484",
   "metadata": {},
   "outputs": [],
   "source": [
    "import numpy as np\n",
    "## an array of alpha values between 0.000001 and 1.0\n",
    "alpha_array = np.logspace(-6, 0, 100)\n",
    " \n",
    "#dict with key (alpha) and values being alpha_array\n",
    "tuned_parameters = [{'alpha': alpha_array}]\n"
   ]
  },
  {
   "cell_type": "code",
   "execution_count": 206,
   "id": "bcb441d1",
   "metadata": {},
   "outputs": [
    {
     "name": "stderr",
     "output_type": "stream",
     "text": [
      "/Users/user/opt/miniconda3/envs/myenv/lib/python3.9/site-packages/sklearn/linear_model/_coordinate_descent.py:645: ConvergenceWarning: Objective did not converge. You might want to increase the number of iterations, check the scale of the features or consider increasing regularisation. Duality gap: 1.598e+02, tolerance: 7.172e-01\n",
      "  model = cd_fast.enet_coordinate_descent(\n",
      "/Users/user/opt/miniconda3/envs/myenv/lib/python3.9/site-packages/sklearn/linear_model/_coordinate_descent.py:645: ConvergenceWarning: Objective did not converge. You might want to increase the number of iterations, check the scale of the features or consider increasing regularisation. Duality gap: 8.251e+01, tolerance: 5.921e-01\n",
      "  model = cd_fast.enet_coordinate_descent(\n",
      "/Users/user/opt/miniconda3/envs/myenv/lib/python3.9/site-packages/sklearn/linear_model/_coordinate_descent.py:645: ConvergenceWarning: Objective did not converge. You might want to increase the number of iterations, check the scale of the features or consider increasing regularisation. Duality gap: 4.039e+01, tolerance: 6.885e-01\n",
      "  model = cd_fast.enet_coordinate_descent(\n",
      "/Users/user/opt/miniconda3/envs/myenv/lib/python3.9/site-packages/sklearn/linear_model/_coordinate_descent.py:645: ConvergenceWarning: Objective did not converge. You might want to increase the number of iterations, check the scale of the features or consider increasing regularisation. Duality gap: 9.172e+00, tolerance: 6.643e-01\n",
      "  model = cd_fast.enet_coordinate_descent(\n",
      "/Users/user/opt/miniconda3/envs/myenv/lib/python3.9/site-packages/sklearn/linear_model/_coordinate_descent.py:645: ConvergenceWarning: Objective did not converge. You might want to increase the number of iterations, check the scale of the features or consider increasing regularisation. Duality gap: 2.133e+01, tolerance: 6.401e-01\n",
      "  model = cd_fast.enet_coordinate_descent(\n",
      "/Users/user/opt/miniconda3/envs/myenv/lib/python3.9/site-packages/sklearn/linear_model/_coordinate_descent.py:645: ConvergenceWarning: Objective did not converge. You might want to increase the number of iterations, check the scale of the features or consider increasing regularisation. Duality gap: 1.598e+02, tolerance: 7.172e-01\n",
      "  model = cd_fast.enet_coordinate_descent(\n",
      "/Users/user/opt/miniconda3/envs/myenv/lib/python3.9/site-packages/sklearn/linear_model/_coordinate_descent.py:645: ConvergenceWarning: Objective did not converge. You might want to increase the number of iterations, check the scale of the features or consider increasing regularisation. Duality gap: 8.251e+01, tolerance: 5.921e-01\n",
      "  model = cd_fast.enet_coordinate_descent(\n",
      "/Users/user/opt/miniconda3/envs/myenv/lib/python3.9/site-packages/sklearn/linear_model/_coordinate_descent.py:645: ConvergenceWarning: Objective did not converge. You might want to increase the number of iterations, check the scale of the features or consider increasing regularisation. Duality gap: 4.039e+01, tolerance: 6.885e-01\n",
      "  model = cd_fast.enet_coordinate_descent(\n",
      "/Users/user/opt/miniconda3/envs/myenv/lib/python3.9/site-packages/sklearn/linear_model/_coordinate_descent.py:645: ConvergenceWarning: Objective did not converge. You might want to increase the number of iterations, check the scale of the features or consider increasing regularisation. Duality gap: 9.172e+00, tolerance: 6.643e-01\n",
      "  model = cd_fast.enet_coordinate_descent(\n",
      "/Users/user/opt/miniconda3/envs/myenv/lib/python3.9/site-packages/sklearn/linear_model/_coordinate_descent.py:645: ConvergenceWarning: Objective did not converge. You might want to increase the number of iterations, check the scale of the features or consider increasing regularisation. Duality gap: 7.442e+01, tolerance: 6.401e-01\n",
      "  model = cd_fast.enet_coordinate_descent(\n",
      "/Users/user/opt/miniconda3/envs/myenv/lib/python3.9/site-packages/sklearn/linear_model/_coordinate_descent.py:645: ConvergenceWarning: Objective did not converge. You might want to increase the number of iterations, check the scale of the features or consider increasing regularisation. Duality gap: 1.598e+02, tolerance: 7.172e-01\n",
      "  model = cd_fast.enet_coordinate_descent(\n",
      "/Users/user/opt/miniconda3/envs/myenv/lib/python3.9/site-packages/sklearn/linear_model/_coordinate_descent.py:645: ConvergenceWarning: Objective did not converge. You might want to increase the number of iterations, check the scale of the features or consider increasing regularisation. Duality gap: 8.251e+01, tolerance: 5.921e-01\n",
      "  model = cd_fast.enet_coordinate_descent(\n",
      "/Users/user/opt/miniconda3/envs/myenv/lib/python3.9/site-packages/sklearn/linear_model/_coordinate_descent.py:645: ConvergenceWarning: Objective did not converge. You might want to increase the number of iterations, check the scale of the features or consider increasing regularisation. Duality gap: 4.040e+01, tolerance: 6.885e-01\n",
      "  model = cd_fast.enet_coordinate_descent(\n",
      "/Users/user/opt/miniconda3/envs/myenv/lib/python3.9/site-packages/sklearn/linear_model/_coordinate_descent.py:645: ConvergenceWarning: Objective did not converge. You might want to increase the number of iterations, check the scale of the features or consider increasing regularisation. Duality gap: 9.172e+00, tolerance: 6.643e-01\n",
      "  model = cd_fast.enet_coordinate_descent(\n",
      "/Users/user/opt/miniconda3/envs/myenv/lib/python3.9/site-packages/sklearn/linear_model/_coordinate_descent.py:645: ConvergenceWarning: Objective did not converge. You might want to increase the number of iterations, check the scale of the features or consider increasing regularisation. Duality gap: 1.154e+01, tolerance: 6.401e-01\n",
      "  model = cd_fast.enet_coordinate_descent(\n",
      "/Users/user/opt/miniconda3/envs/myenv/lib/python3.9/site-packages/sklearn/linear_model/_coordinate_descent.py:645: ConvergenceWarning: Objective did not converge. You might want to increase the number of iterations, check the scale of the features or consider increasing regularisation. Duality gap: 1.598e+02, tolerance: 7.172e-01\n",
      "  model = cd_fast.enet_coordinate_descent(\n",
      "/Users/user/opt/miniconda3/envs/myenv/lib/python3.9/site-packages/sklearn/linear_model/_coordinate_descent.py:645: ConvergenceWarning: Objective did not converge. You might want to increase the number of iterations, check the scale of the features or consider increasing regularisation. Duality gap: 8.251e+01, tolerance: 5.921e-01\n",
      "  model = cd_fast.enet_coordinate_descent(\n",
      "/Users/user/opt/miniconda3/envs/myenv/lib/python3.9/site-packages/sklearn/linear_model/_coordinate_descent.py:645: ConvergenceWarning: Objective did not converge. You might want to increase the number of iterations, check the scale of the features or consider increasing regularisation. Duality gap: 4.040e+01, tolerance: 6.885e-01\n",
      "  model = cd_fast.enet_coordinate_descent(\n",
      "/Users/user/opt/miniconda3/envs/myenv/lib/python3.9/site-packages/sklearn/linear_model/_coordinate_descent.py:645: ConvergenceWarning: Objective did not converge. You might want to increase the number of iterations, check the scale of the features or consider increasing regularisation. Duality gap: 9.172e+00, tolerance: 6.643e-01\n",
      "  model = cd_fast.enet_coordinate_descent(\n",
      "/Users/user/opt/miniconda3/envs/myenv/lib/python3.9/site-packages/sklearn/linear_model/_coordinate_descent.py:645: ConvergenceWarning: Objective did not converge. You might want to increase the number of iterations, check the scale of the features or consider increasing regularisation. Duality gap: 1.154e+01, tolerance: 6.401e-01\n",
      "  model = cd_fast.enet_coordinate_descent(\n",
      "/Users/user/opt/miniconda3/envs/myenv/lib/python3.9/site-packages/sklearn/linear_model/_coordinate_descent.py:645: ConvergenceWarning: Objective did not converge. You might want to increase the number of iterations, check the scale of the features or consider increasing regularisation. Duality gap: 1.598e+02, tolerance: 7.172e-01\n",
      "  model = cd_fast.enet_coordinate_descent(\n",
      "/Users/user/opt/miniconda3/envs/myenv/lib/python3.9/site-packages/sklearn/linear_model/_coordinate_descent.py:645: ConvergenceWarning: Objective did not converge. You might want to increase the number of iterations, check the scale of the features or consider increasing regularisation. Duality gap: 8.251e+01, tolerance: 5.921e-01\n",
      "  model = cd_fast.enet_coordinate_descent(\n",
      "/Users/user/opt/miniconda3/envs/myenv/lib/python3.9/site-packages/sklearn/linear_model/_coordinate_descent.py:645: ConvergenceWarning: Objective did not converge. You might want to increase the number of iterations, check the scale of the features or consider increasing regularisation. Duality gap: 4.040e+01, tolerance: 6.885e-01\n",
      "  model = cd_fast.enet_coordinate_descent(\n",
      "/Users/user/opt/miniconda3/envs/myenv/lib/python3.9/site-packages/sklearn/linear_model/_coordinate_descent.py:645: ConvergenceWarning: Objective did not converge. You might want to increase the number of iterations, check the scale of the features or consider increasing regularisation. Duality gap: 9.172e+00, tolerance: 6.643e-01\n",
      "  model = cd_fast.enet_coordinate_descent(\n"
     ]
    },
    {
     "name": "stderr",
     "output_type": "stream",
     "text": [
      "/Users/user/opt/miniconda3/envs/myenv/lib/python3.9/site-packages/sklearn/linear_model/_coordinate_descent.py:645: ConvergenceWarning: Objective did not converge. You might want to increase the number of iterations, check the scale of the features or consider increasing regularisation. Duality gap: 1.154e+01, tolerance: 6.401e-01\n",
      "  model = cd_fast.enet_coordinate_descent(\n",
      "/Users/user/opt/miniconda3/envs/myenv/lib/python3.9/site-packages/sklearn/linear_model/_coordinate_descent.py:645: ConvergenceWarning: Objective did not converge. You might want to increase the number of iterations, check the scale of the features or consider increasing regularisation. Duality gap: 1.598e+02, tolerance: 7.172e-01\n",
      "  model = cd_fast.enet_coordinate_descent(\n",
      "/Users/user/opt/miniconda3/envs/myenv/lib/python3.9/site-packages/sklearn/linear_model/_coordinate_descent.py:645: ConvergenceWarning: Objective did not converge. You might want to increase the number of iterations, check the scale of the features or consider increasing regularisation. Duality gap: 8.251e+01, tolerance: 5.921e-01\n",
      "  model = cd_fast.enet_coordinate_descent(\n",
      "/Users/user/opt/miniconda3/envs/myenv/lib/python3.9/site-packages/sklearn/linear_model/_coordinate_descent.py:645: ConvergenceWarning: Objective did not converge. You might want to increase the number of iterations, check the scale of the features or consider increasing regularisation. Duality gap: 4.040e+01, tolerance: 6.885e-01\n",
      "  model = cd_fast.enet_coordinate_descent(\n",
      "/Users/user/opt/miniconda3/envs/myenv/lib/python3.9/site-packages/sklearn/linear_model/_coordinate_descent.py:645: ConvergenceWarning: Objective did not converge. You might want to increase the number of iterations, check the scale of the features or consider increasing regularisation. Duality gap: 9.172e+00, tolerance: 6.643e-01\n",
      "  model = cd_fast.enet_coordinate_descent(\n",
      "/Users/user/opt/miniconda3/envs/myenv/lib/python3.9/site-packages/sklearn/linear_model/_coordinate_descent.py:645: ConvergenceWarning: Objective did not converge. You might want to increase the number of iterations, check the scale of the features or consider increasing regularisation. Duality gap: 1.154e+01, tolerance: 6.401e-01\n",
      "  model = cd_fast.enet_coordinate_descent(\n",
      "/Users/user/opt/miniconda3/envs/myenv/lib/python3.9/site-packages/sklearn/linear_model/_coordinate_descent.py:645: ConvergenceWarning: Objective did not converge. You might want to increase the number of iterations, check the scale of the features or consider increasing regularisation. Duality gap: 1.598e+02, tolerance: 7.172e-01\n",
      "  model = cd_fast.enet_coordinate_descent(\n",
      "/Users/user/opt/miniconda3/envs/myenv/lib/python3.9/site-packages/sklearn/linear_model/_coordinate_descent.py:645: ConvergenceWarning: Objective did not converge. You might want to increase the number of iterations, check the scale of the features or consider increasing regularisation. Duality gap: 8.251e+01, tolerance: 5.921e-01\n",
      "  model = cd_fast.enet_coordinate_descent(\n",
      "/Users/user/opt/miniconda3/envs/myenv/lib/python3.9/site-packages/sklearn/linear_model/_coordinate_descent.py:645: ConvergenceWarning: Objective did not converge. You might want to increase the number of iterations, check the scale of the features or consider increasing regularisation. Duality gap: 4.040e+01, tolerance: 6.885e-01\n",
      "  model = cd_fast.enet_coordinate_descent(\n",
      "/Users/user/opt/miniconda3/envs/myenv/lib/python3.9/site-packages/sklearn/linear_model/_coordinate_descent.py:645: ConvergenceWarning: Objective did not converge. You might want to increase the number of iterations, check the scale of the features or consider increasing regularisation. Duality gap: 9.172e+00, tolerance: 6.643e-01\n",
      "  model = cd_fast.enet_coordinate_descent(\n",
      "/Users/user/opt/miniconda3/envs/myenv/lib/python3.9/site-packages/sklearn/linear_model/_coordinate_descent.py:645: ConvergenceWarning: Objective did not converge. You might want to increase the number of iterations, check the scale of the features or consider increasing regularisation. Duality gap: 1.154e+01, tolerance: 6.401e-01\n",
      "  model = cd_fast.enet_coordinate_descent(\n",
      "/Users/user/opt/miniconda3/envs/myenv/lib/python3.9/site-packages/sklearn/linear_model/_coordinate_descent.py:645: ConvergenceWarning: Objective did not converge. You might want to increase the number of iterations, check the scale of the features or consider increasing regularisation. Duality gap: 1.598e+02, tolerance: 7.172e-01\n",
      "  model = cd_fast.enet_coordinate_descent(\n",
      "/Users/user/opt/miniconda3/envs/myenv/lib/python3.9/site-packages/sklearn/linear_model/_coordinate_descent.py:645: ConvergenceWarning: Objective did not converge. You might want to increase the number of iterations, check the scale of the features or consider increasing regularisation. Duality gap: 8.251e+01, tolerance: 5.921e-01\n",
      "  model = cd_fast.enet_coordinate_descent(\n",
      "/Users/user/opt/miniconda3/envs/myenv/lib/python3.9/site-packages/sklearn/linear_model/_coordinate_descent.py:645: ConvergenceWarning: Objective did not converge. You might want to increase the number of iterations, check the scale of the features or consider increasing regularisation. Duality gap: 4.040e+01, tolerance: 6.885e-01\n",
      "  model = cd_fast.enet_coordinate_descent(\n",
      "/Users/user/opt/miniconda3/envs/myenv/lib/python3.9/site-packages/sklearn/linear_model/_coordinate_descent.py:645: ConvergenceWarning: Objective did not converge. You might want to increase the number of iterations, check the scale of the features or consider increasing regularisation. Duality gap: 9.173e+00, tolerance: 6.643e-01\n",
      "  model = cd_fast.enet_coordinate_descent(\n",
      "/Users/user/opt/miniconda3/envs/myenv/lib/python3.9/site-packages/sklearn/linear_model/_coordinate_descent.py:645: ConvergenceWarning: Objective did not converge. You might want to increase the number of iterations, check the scale of the features or consider increasing regularisation. Duality gap: 1.154e+01, tolerance: 6.401e-01\n",
      "  model = cd_fast.enet_coordinate_descent(\n",
      "/Users/user/opt/miniconda3/envs/myenv/lib/python3.9/site-packages/sklearn/linear_model/_coordinate_descent.py:645: ConvergenceWarning: Objective did not converge. You might want to increase the number of iterations, check the scale of the features or consider increasing regularisation. Duality gap: 1.598e+02, tolerance: 7.172e-01\n",
      "  model = cd_fast.enet_coordinate_descent(\n",
      "/Users/user/opt/miniconda3/envs/myenv/lib/python3.9/site-packages/sklearn/linear_model/_coordinate_descent.py:645: ConvergenceWarning: Objective did not converge. You might want to increase the number of iterations, check the scale of the features or consider increasing regularisation. Duality gap: 8.251e+01, tolerance: 5.921e-01\n",
      "  model = cd_fast.enet_coordinate_descent(\n",
      "/Users/user/opt/miniconda3/envs/myenv/lib/python3.9/site-packages/sklearn/linear_model/_coordinate_descent.py:645: ConvergenceWarning: Objective did not converge. You might want to increase the number of iterations, check the scale of the features or consider increasing regularisation. Duality gap: 4.040e+01, tolerance: 6.885e-01\n",
      "  model = cd_fast.enet_coordinate_descent(\n",
      "/Users/user/opt/miniconda3/envs/myenv/lib/python3.9/site-packages/sklearn/linear_model/_coordinate_descent.py:645: ConvergenceWarning: Objective did not converge. You might want to increase the number of iterations, check the scale of the features or consider increasing regularisation. Duality gap: 9.173e+00, tolerance: 6.643e-01\n",
      "  model = cd_fast.enet_coordinate_descent(\n",
      "/Users/user/opt/miniconda3/envs/myenv/lib/python3.9/site-packages/sklearn/linear_model/_coordinate_descent.py:645: ConvergenceWarning: Objective did not converge. You might want to increase the number of iterations, check the scale of the features or consider increasing regularisation. Duality gap: 1.154e+01, tolerance: 6.401e-01\n",
      "  model = cd_fast.enet_coordinate_descent(\n",
      "/Users/user/opt/miniconda3/envs/myenv/lib/python3.9/site-packages/sklearn/linear_model/_coordinate_descent.py:645: ConvergenceWarning: Objective did not converge. You might want to increase the number of iterations, check the scale of the features or consider increasing regularisation. Duality gap: 1.598e+02, tolerance: 7.172e-01\n",
      "  model = cd_fast.enet_coordinate_descent(\n",
      "/Users/user/opt/miniconda3/envs/myenv/lib/python3.9/site-packages/sklearn/linear_model/_coordinate_descent.py:645: ConvergenceWarning: Objective did not converge. You might want to increase the number of iterations, check the scale of the features or consider increasing regularisation. Duality gap: 8.251e+01, tolerance: 5.921e-01\n",
      "  model = cd_fast.enet_coordinate_descent(\n",
      "/Users/user/opt/miniconda3/envs/myenv/lib/python3.9/site-packages/sklearn/linear_model/_coordinate_descent.py:645: ConvergenceWarning: Objective did not converge. You might want to increase the number of iterations, check the scale of the features or consider increasing regularisation. Duality gap: 4.040e+01, tolerance: 6.885e-01\n",
      "  model = cd_fast.enet_coordinate_descent(\n",
      "/Users/user/opt/miniconda3/envs/myenv/lib/python3.9/site-packages/sklearn/linear_model/_coordinate_descent.py:645: ConvergenceWarning: Objective did not converge. You might want to increase the number of iterations, check the scale of the features or consider increasing regularisation. Duality gap: 9.173e+00, tolerance: 6.643e-01\n",
      "  model = cd_fast.enet_coordinate_descent(\n",
      "/Users/user/opt/miniconda3/envs/myenv/lib/python3.9/site-packages/sklearn/linear_model/_coordinate_descent.py:645: ConvergenceWarning: Objective did not converge. You might want to increase the number of iterations, check the scale of the features or consider increasing regularisation. Duality gap: 1.154e+01, tolerance: 6.401e-01\n",
      "  model = cd_fast.enet_coordinate_descent(\n",
      "/Users/user/opt/miniconda3/envs/myenv/lib/python3.9/site-packages/sklearn/linear_model/_coordinate_descent.py:645: ConvergenceWarning: Objective did not converge. You might want to increase the number of iterations, check the scale of the features or consider increasing regularisation. Duality gap: 1.598e+02, tolerance: 7.172e-01\n",
      "  model = cd_fast.enet_coordinate_descent(\n",
      "/Users/user/opt/miniconda3/envs/myenv/lib/python3.9/site-packages/sklearn/linear_model/_coordinate_descent.py:645: ConvergenceWarning: Objective did not converge. You might want to increase the number of iterations, check the scale of the features or consider increasing regularisation. Duality gap: 8.251e+01, tolerance: 5.921e-01\n",
      "  model = cd_fast.enet_coordinate_descent(\n"
     ]
    },
    {
     "name": "stderr",
     "output_type": "stream",
     "text": [
      "/Users/user/opt/miniconda3/envs/myenv/lib/python3.9/site-packages/sklearn/linear_model/_coordinate_descent.py:645: ConvergenceWarning: Objective did not converge. You might want to increase the number of iterations, check the scale of the features or consider increasing regularisation. Duality gap: 4.040e+01, tolerance: 6.885e-01\n",
      "  model = cd_fast.enet_coordinate_descent(\n",
      "/Users/user/opt/miniconda3/envs/myenv/lib/python3.9/site-packages/sklearn/linear_model/_coordinate_descent.py:645: ConvergenceWarning: Objective did not converge. You might want to increase the number of iterations, check the scale of the features or consider increasing regularisation. Duality gap: 7.895e+00, tolerance: 6.643e-01\n",
      "  model = cd_fast.enet_coordinate_descent(\n",
      "/Users/user/opt/miniconda3/envs/myenv/lib/python3.9/site-packages/sklearn/linear_model/_coordinate_descent.py:645: ConvergenceWarning: Objective did not converge. You might want to increase the number of iterations, check the scale of the features or consider increasing regularisation. Duality gap: 1.154e+01, tolerance: 6.401e-01\n",
      "  model = cd_fast.enet_coordinate_descent(\n",
      "/Users/user/opt/miniconda3/envs/myenv/lib/python3.9/site-packages/sklearn/linear_model/_coordinate_descent.py:645: ConvergenceWarning: Objective did not converge. You might want to increase the number of iterations, check the scale of the features or consider increasing regularisation. Duality gap: 4.266e+01, tolerance: 7.172e-01\n",
      "  model = cd_fast.enet_coordinate_descent(\n",
      "/Users/user/opt/miniconda3/envs/myenv/lib/python3.9/site-packages/sklearn/linear_model/_coordinate_descent.py:645: ConvergenceWarning: Objective did not converge. You might want to increase the number of iterations, check the scale of the features or consider increasing regularisation. Duality gap: 8.251e+01, tolerance: 5.921e-01\n",
      "  model = cd_fast.enet_coordinate_descent(\n",
      "/Users/user/opt/miniconda3/envs/myenv/lib/python3.9/site-packages/sklearn/linear_model/_coordinate_descent.py:645: ConvergenceWarning: Objective did not converge. You might want to increase the number of iterations, check the scale of the features or consider increasing regularisation. Duality gap: 4.040e+01, tolerance: 6.885e-01\n",
      "  model = cd_fast.enet_coordinate_descent(\n",
      "/Users/user/opt/miniconda3/envs/myenv/lib/python3.9/site-packages/sklearn/linear_model/_coordinate_descent.py:645: ConvergenceWarning: Objective did not converge. You might want to increase the number of iterations, check the scale of the features or consider increasing regularisation. Duality gap: 7.896e+00, tolerance: 6.643e-01\n",
      "  model = cd_fast.enet_coordinate_descent(\n",
      "/Users/user/opt/miniconda3/envs/myenv/lib/python3.9/site-packages/sklearn/linear_model/_coordinate_descent.py:645: ConvergenceWarning: Objective did not converge. You might want to increase the number of iterations, check the scale of the features or consider increasing regularisation. Duality gap: 1.154e+01, tolerance: 6.401e-01\n",
      "  model = cd_fast.enet_coordinate_descent(\n",
      "/Users/user/opt/miniconda3/envs/myenv/lib/python3.9/site-packages/sklearn/linear_model/_coordinate_descent.py:645: ConvergenceWarning: Objective did not converge. You might want to increase the number of iterations, check the scale of the features or consider increasing regularisation. Duality gap: 4.266e+01, tolerance: 7.172e-01\n",
      "  model = cd_fast.enet_coordinate_descent(\n",
      "/Users/user/opt/miniconda3/envs/myenv/lib/python3.9/site-packages/sklearn/linear_model/_coordinate_descent.py:645: ConvergenceWarning: Objective did not converge. You might want to increase the number of iterations, check the scale of the features or consider increasing regularisation. Duality gap: 8.251e+01, tolerance: 5.921e-01\n",
      "  model = cd_fast.enet_coordinate_descent(\n",
      "/Users/user/opt/miniconda3/envs/myenv/lib/python3.9/site-packages/sklearn/linear_model/_coordinate_descent.py:645: ConvergenceWarning: Objective did not converge. You might want to increase the number of iterations, check the scale of the features or consider increasing regularisation. Duality gap: 4.040e+01, tolerance: 6.885e-01\n",
      "  model = cd_fast.enet_coordinate_descent(\n",
      "/Users/user/opt/miniconda3/envs/myenv/lib/python3.9/site-packages/sklearn/linear_model/_coordinate_descent.py:645: ConvergenceWarning: Objective did not converge. You might want to increase the number of iterations, check the scale of the features or consider increasing regularisation. Duality gap: 1.154e+01, tolerance: 6.401e-01\n",
      "  model = cd_fast.enet_coordinate_descent(\n",
      "/Users/user/opt/miniconda3/envs/myenv/lib/python3.9/site-packages/sklearn/linear_model/_coordinate_descent.py:645: ConvergenceWarning: Objective did not converge. You might want to increase the number of iterations, check the scale of the features or consider increasing regularisation. Duality gap: 4.266e+01, tolerance: 7.172e-01\n",
      "  model = cd_fast.enet_coordinate_descent(\n",
      "/Users/user/opt/miniconda3/envs/myenv/lib/python3.9/site-packages/sklearn/linear_model/_coordinate_descent.py:645: ConvergenceWarning: Objective did not converge. You might want to increase the number of iterations, check the scale of the features or consider increasing regularisation. Duality gap: 8.251e+01, tolerance: 5.921e-01\n",
      "  model = cd_fast.enet_coordinate_descent(\n",
      "/Users/user/opt/miniconda3/envs/myenv/lib/python3.9/site-packages/sklearn/linear_model/_coordinate_descent.py:645: ConvergenceWarning: Objective did not converge. You might want to increase the number of iterations, check the scale of the features or consider increasing regularisation. Duality gap: 4.040e+01, tolerance: 6.885e-01\n",
      "  model = cd_fast.enet_coordinate_descent(\n",
      "/Users/user/opt/miniconda3/envs/myenv/lib/python3.9/site-packages/sklearn/linear_model/_coordinate_descent.py:645: ConvergenceWarning: Objective did not converge. You might want to increase the number of iterations, check the scale of the features or consider increasing regularisation. Duality gap: 1.154e+01, tolerance: 6.401e-01\n",
      "  model = cd_fast.enet_coordinate_descent(\n",
      "/Users/user/opt/miniconda3/envs/myenv/lib/python3.9/site-packages/sklearn/linear_model/_coordinate_descent.py:645: ConvergenceWarning: Objective did not converge. You might want to increase the number of iterations, check the scale of the features or consider increasing regularisation. Duality gap: 2.137e+00, tolerance: 7.172e-01\n",
      "  model = cd_fast.enet_coordinate_descent(\n",
      "/Users/user/opt/miniconda3/envs/myenv/lib/python3.9/site-packages/sklearn/linear_model/_coordinate_descent.py:645: ConvergenceWarning: Objective did not converge. You might want to increase the number of iterations, check the scale of the features or consider increasing regularisation. Duality gap: 8.251e+01, tolerance: 5.921e-01\n",
      "  model = cd_fast.enet_coordinate_descent(\n",
      "/Users/user/opt/miniconda3/envs/myenv/lib/python3.9/site-packages/sklearn/linear_model/_coordinate_descent.py:645: ConvergenceWarning: Objective did not converge. You might want to increase the number of iterations, check the scale of the features or consider increasing regularisation. Duality gap: 4.040e+01, tolerance: 6.885e-01\n",
      "  model = cd_fast.enet_coordinate_descent(\n",
      "/Users/user/opt/miniconda3/envs/myenv/lib/python3.9/site-packages/sklearn/linear_model/_coordinate_descent.py:645: ConvergenceWarning: Objective did not converge. You might want to increase the number of iterations, check the scale of the features or consider increasing regularisation. Duality gap: 1.154e+01, tolerance: 6.401e-01\n",
      "  model = cd_fast.enet_coordinate_descent(\n",
      "/Users/user/opt/miniconda3/envs/myenv/lib/python3.9/site-packages/sklearn/linear_model/_coordinate_descent.py:645: ConvergenceWarning: Objective did not converge. You might want to increase the number of iterations, check the scale of the features or consider increasing regularisation. Duality gap: 2.138e+00, tolerance: 7.172e-01\n",
      "  model = cd_fast.enet_coordinate_descent(\n",
      "/Users/user/opt/miniconda3/envs/myenv/lib/python3.9/site-packages/sklearn/linear_model/_coordinate_descent.py:645: ConvergenceWarning: Objective did not converge. You might want to increase the number of iterations, check the scale of the features or consider increasing regularisation. Duality gap: 8.251e+01, tolerance: 5.921e-01\n",
      "  model = cd_fast.enet_coordinate_descent(\n"
     ]
    },
    {
     "name": "stderr",
     "output_type": "stream",
     "text": [
      "/Users/user/opt/miniconda3/envs/myenv/lib/python3.9/site-packages/sklearn/linear_model/_coordinate_descent.py:645: ConvergenceWarning: Objective did not converge. You might want to increase the number of iterations, check the scale of the features or consider increasing regularisation. Duality gap: 2.225e+01, tolerance: 6.885e-01\n",
      "  model = cd_fast.enet_coordinate_descent(\n",
      "/Users/user/opt/miniconda3/envs/myenv/lib/python3.9/site-packages/sklearn/linear_model/_coordinate_descent.py:645: ConvergenceWarning: Objective did not converge. You might want to increase the number of iterations, check the scale of the features or consider increasing regularisation. Duality gap: 1.154e+01, tolerance: 6.401e-01\n",
      "  model = cd_fast.enet_coordinate_descent(\n",
      "/Users/user/opt/miniconda3/envs/myenv/lib/python3.9/site-packages/sklearn/linear_model/_coordinate_descent.py:645: ConvergenceWarning: Objective did not converge. You might want to increase the number of iterations, check the scale of the features or consider increasing regularisation. Duality gap: 2.138e+00, tolerance: 7.172e-01\n",
      "  model = cd_fast.enet_coordinate_descent(\n",
      "/Users/user/opt/miniconda3/envs/myenv/lib/python3.9/site-packages/sklearn/linear_model/_coordinate_descent.py:645: ConvergenceWarning: Objective did not converge. You might want to increase the number of iterations, check the scale of the features or consider increasing regularisation. Duality gap: 8.251e+01, tolerance: 5.921e-01\n",
      "  model = cd_fast.enet_coordinate_descent(\n",
      "/Users/user/opt/miniconda3/envs/myenv/lib/python3.9/site-packages/sklearn/linear_model/_coordinate_descent.py:645: ConvergenceWarning: Objective did not converge. You might want to increase the number of iterations, check the scale of the features or consider increasing regularisation. Duality gap: 2.225e+01, tolerance: 6.885e-01\n",
      "  model = cd_fast.enet_coordinate_descent(\n",
      "/Users/user/opt/miniconda3/envs/myenv/lib/python3.9/site-packages/sklearn/linear_model/_coordinate_descent.py:645: ConvergenceWarning: Objective did not converge. You might want to increase the number of iterations, check the scale of the features or consider increasing regularisation. Duality gap: 1.154e+01, tolerance: 6.401e-01\n",
      "  model = cd_fast.enet_coordinate_descent(\n",
      "/Users/user/opt/miniconda3/envs/myenv/lib/python3.9/site-packages/sklearn/linear_model/_coordinate_descent.py:645: ConvergenceWarning: Objective did not converge. You might want to increase the number of iterations, check the scale of the features or consider increasing regularisation. Duality gap: 2.138e+00, tolerance: 7.172e-01\n",
      "  model = cd_fast.enet_coordinate_descent(\n",
      "/Users/user/opt/miniconda3/envs/myenv/lib/python3.9/site-packages/sklearn/linear_model/_coordinate_descent.py:645: ConvergenceWarning: Objective did not converge. You might want to increase the number of iterations, check the scale of the features or consider increasing regularisation. Duality gap: 8.252e+01, tolerance: 5.921e-01\n",
      "  model = cd_fast.enet_coordinate_descent(\n",
      "/Users/user/opt/miniconda3/envs/myenv/lib/python3.9/site-packages/sklearn/linear_model/_coordinate_descent.py:645: ConvergenceWarning: Objective did not converge. You might want to increase the number of iterations, check the scale of the features or consider increasing regularisation. Duality gap: 2.225e+01, tolerance: 6.885e-01\n",
      "  model = cd_fast.enet_coordinate_descent(\n",
      "/Users/user/opt/miniconda3/envs/myenv/lib/python3.9/site-packages/sklearn/linear_model/_coordinate_descent.py:645: ConvergenceWarning: Objective did not converge. You might want to increase the number of iterations, check the scale of the features or consider increasing regularisation. Duality gap: 1.154e+01, tolerance: 6.401e-01\n",
      "  model = cd_fast.enet_coordinate_descent(\n",
      "/Users/user/opt/miniconda3/envs/myenv/lib/python3.9/site-packages/sklearn/linear_model/_coordinate_descent.py:645: ConvergenceWarning: Objective did not converge. You might want to increase the number of iterations, check the scale of the features or consider increasing regularisation. Duality gap: 2.139e+00, tolerance: 7.172e-01\n",
      "  model = cd_fast.enet_coordinate_descent(\n",
      "/Users/user/opt/miniconda3/envs/myenv/lib/python3.9/site-packages/sklearn/linear_model/_coordinate_descent.py:645: ConvergenceWarning: Objective did not converge. You might want to increase the number of iterations, check the scale of the features or consider increasing regularisation. Duality gap: 8.252e+01, tolerance: 5.921e-01\n",
      "  model = cd_fast.enet_coordinate_descent(\n",
      "/Users/user/opt/miniconda3/envs/myenv/lib/python3.9/site-packages/sklearn/linear_model/_coordinate_descent.py:645: ConvergenceWarning: Objective did not converge. You might want to increase the number of iterations, check the scale of the features or consider increasing regularisation. Duality gap: 2.225e+01, tolerance: 6.885e-01\n",
      "  model = cd_fast.enet_coordinate_descent(\n",
      "/Users/user/opt/miniconda3/envs/myenv/lib/python3.9/site-packages/sklearn/linear_model/_coordinate_descent.py:645: ConvergenceWarning: Objective did not converge. You might want to increase the number of iterations, check the scale of the features or consider increasing regularisation. Duality gap: 1.154e+01, tolerance: 6.401e-01\n",
      "  model = cd_fast.enet_coordinate_descent(\n",
      "/Users/user/opt/miniconda3/envs/myenv/lib/python3.9/site-packages/sklearn/linear_model/_coordinate_descent.py:645: ConvergenceWarning: Objective did not converge. You might want to increase the number of iterations, check the scale of the features or consider increasing regularisation. Duality gap: 2.139e+00, tolerance: 7.172e-01\n",
      "  model = cd_fast.enet_coordinate_descent(\n",
      "/Users/user/opt/miniconda3/envs/myenv/lib/python3.9/site-packages/sklearn/linear_model/_coordinate_descent.py:645: ConvergenceWarning: Objective did not converge. You might want to increase the number of iterations, check the scale of the features or consider increasing regularisation. Duality gap: 8.252e+01, tolerance: 5.921e-01\n",
      "  model = cd_fast.enet_coordinate_descent(\n",
      "/Users/user/opt/miniconda3/envs/myenv/lib/python3.9/site-packages/sklearn/linear_model/_coordinate_descent.py:645: ConvergenceWarning: Objective did not converge. You might want to increase the number of iterations, check the scale of the features or consider increasing regularisation. Duality gap: 2.226e+01, tolerance: 6.885e-01\n",
      "  model = cd_fast.enet_coordinate_descent(\n",
      "/Users/user/opt/miniconda3/envs/myenv/lib/python3.9/site-packages/sklearn/linear_model/_coordinate_descent.py:645: ConvergenceWarning: Objective did not converge. You might want to increase the number of iterations, check the scale of the features or consider increasing regularisation. Duality gap: 1.154e+01, tolerance: 6.401e-01\n",
      "  model = cd_fast.enet_coordinate_descent(\n",
      "/Users/user/opt/miniconda3/envs/myenv/lib/python3.9/site-packages/sklearn/linear_model/_coordinate_descent.py:645: ConvergenceWarning: Objective did not converge. You might want to increase the number of iterations, check the scale of the features or consider increasing regularisation. Duality gap: 2.140e+00, tolerance: 7.172e-01\n",
      "  model = cd_fast.enet_coordinate_descent(\n",
      "/Users/user/opt/miniconda3/envs/myenv/lib/python3.9/site-packages/sklearn/linear_model/_coordinate_descent.py:645: ConvergenceWarning: Objective did not converge. You might want to increase the number of iterations, check the scale of the features or consider increasing regularisation. Duality gap: 8.252e+01, tolerance: 5.921e-01\n",
      "  model = cd_fast.enet_coordinate_descent(\n",
      "/Users/user/opt/miniconda3/envs/myenv/lib/python3.9/site-packages/sklearn/linear_model/_coordinate_descent.py:645: ConvergenceWarning: Objective did not converge. You might want to increase the number of iterations, check the scale of the features or consider increasing regularisation. Duality gap: 2.226e+01, tolerance: 6.885e-01\n",
      "  model = cd_fast.enet_coordinate_descent(\n",
      "/Users/user/opt/miniconda3/envs/myenv/lib/python3.9/site-packages/sklearn/linear_model/_coordinate_descent.py:645: ConvergenceWarning: Objective did not converge. You might want to increase the number of iterations, check the scale of the features or consider increasing regularisation. Duality gap: 1.154e+01, tolerance: 6.401e-01\n",
      "  model = cd_fast.enet_coordinate_descent(\n",
      "/Users/user/opt/miniconda3/envs/myenv/lib/python3.9/site-packages/sklearn/linear_model/_coordinate_descent.py:645: ConvergenceWarning: Objective did not converge. You might want to increase the number of iterations, check the scale of the features or consider increasing regularisation. Duality gap: 2.140e+00, tolerance: 7.172e-01\n",
      "  model = cd_fast.enet_coordinate_descent(\n"
     ]
    },
    {
     "name": "stderr",
     "output_type": "stream",
     "text": [
      "/Users/user/opt/miniconda3/envs/myenv/lib/python3.9/site-packages/sklearn/linear_model/_coordinate_descent.py:645: ConvergenceWarning: Objective did not converge. You might want to increase the number of iterations, check the scale of the features or consider increasing regularisation. Duality gap: 4.265e+00, tolerance: 5.921e-01\n",
      "  model = cd_fast.enet_coordinate_descent(\n",
      "/Users/user/opt/miniconda3/envs/myenv/lib/python3.9/site-packages/sklearn/linear_model/_coordinate_descent.py:645: ConvergenceWarning: Objective did not converge. You might want to increase the number of iterations, check the scale of the features or consider increasing regularisation. Duality gap: 2.226e+01, tolerance: 6.885e-01\n",
      "  model = cd_fast.enet_coordinate_descent(\n",
      "/Users/user/opt/miniconda3/envs/myenv/lib/python3.9/site-packages/sklearn/linear_model/_coordinate_descent.py:645: ConvergenceWarning: Objective did not converge. You might want to increase the number of iterations, check the scale of the features or consider increasing regularisation. Duality gap: 1.638e+00, tolerance: 6.401e-01\n",
      "  model = cd_fast.enet_coordinate_descent(\n",
      "/Users/user/opt/miniconda3/envs/myenv/lib/python3.9/site-packages/sklearn/linear_model/_coordinate_descent.py:645: ConvergenceWarning: Objective did not converge. You might want to increase the number of iterations, check the scale of the features or consider increasing regularisation. Duality gap: 2.141e+00, tolerance: 7.172e-01\n",
      "  model = cd_fast.enet_coordinate_descent(\n",
      "/Users/user/opt/miniconda3/envs/myenv/lib/python3.9/site-packages/sklearn/linear_model/_coordinate_descent.py:645: ConvergenceWarning: Objective did not converge. You might want to increase the number of iterations, check the scale of the features or consider increasing regularisation. Duality gap: 2.226e+01, tolerance: 6.885e-01\n",
      "  model = cd_fast.enet_coordinate_descent(\n",
      "/Users/user/opt/miniconda3/envs/myenv/lib/python3.9/site-packages/sklearn/linear_model/_coordinate_descent.py:645: ConvergenceWarning: Objective did not converge. You might want to increase the number of iterations, check the scale of the features or consider increasing regularisation. Duality gap: 1.639e+00, tolerance: 6.401e-01\n",
      "  model = cd_fast.enet_coordinate_descent(\n",
      "/Users/user/opt/miniconda3/envs/myenv/lib/python3.9/site-packages/sklearn/linear_model/_coordinate_descent.py:645: ConvergenceWarning: Objective did not converge. You might want to increase the number of iterations, check the scale of the features or consider increasing regularisation. Duality gap: 2.142e+00, tolerance: 7.172e-01\n",
      "  model = cd_fast.enet_coordinate_descent(\n",
      "/Users/user/opt/miniconda3/envs/myenv/lib/python3.9/site-packages/sklearn/linear_model/_coordinate_descent.py:645: ConvergenceWarning: Objective did not converge. You might want to increase the number of iterations, check the scale of the features or consider increasing regularisation. Duality gap: 2.226e+01, tolerance: 6.885e-01\n",
      "  model = cd_fast.enet_coordinate_descent(\n",
      "/Users/user/opt/miniconda3/envs/myenv/lib/python3.9/site-packages/sklearn/linear_model/_coordinate_descent.py:645: ConvergenceWarning: Objective did not converge. You might want to increase the number of iterations, check the scale of the features or consider increasing regularisation. Duality gap: 1.639e+00, tolerance: 6.401e-01\n",
      "  model = cd_fast.enet_coordinate_descent(\n",
      "/Users/user/opt/miniconda3/envs/myenv/lib/python3.9/site-packages/sklearn/linear_model/_coordinate_descent.py:645: ConvergenceWarning: Objective did not converge. You might want to increase the number of iterations, check the scale of the features or consider increasing regularisation. Duality gap: 2.142e+00, tolerance: 7.172e-01\n",
      "  model = cd_fast.enet_coordinate_descent(\n",
      "/Users/user/opt/miniconda3/envs/myenv/lib/python3.9/site-packages/sklearn/linear_model/_coordinate_descent.py:645: ConvergenceWarning: Objective did not converge. You might want to increase the number of iterations, check the scale of the features or consider increasing regularisation. Duality gap: 2.227e+01, tolerance: 6.885e-01\n",
      "  model = cd_fast.enet_coordinate_descent(\n",
      "/Users/user/opt/miniconda3/envs/myenv/lib/python3.9/site-packages/sklearn/linear_model/_coordinate_descent.py:645: ConvergenceWarning: Objective did not converge. You might want to increase the number of iterations, check the scale of the features or consider increasing regularisation. Duality gap: 1.640e+00, tolerance: 6.401e-01\n",
      "  model = cd_fast.enet_coordinate_descent(\n",
      "/Users/user/opt/miniconda3/envs/myenv/lib/python3.9/site-packages/sklearn/linear_model/_coordinate_descent.py:645: ConvergenceWarning: Objective did not converge. You might want to increase the number of iterations, check the scale of the features or consider increasing regularisation. Duality gap: 2.143e+00, tolerance: 7.172e-01\n",
      "  model = cd_fast.enet_coordinate_descent(\n",
      "/Users/user/opt/miniconda3/envs/myenv/lib/python3.9/site-packages/sklearn/linear_model/_coordinate_descent.py:645: ConvergenceWarning: Objective did not converge. You might want to increase the number of iterations, check the scale of the features or consider increasing regularisation. Duality gap: 2.227e+01, tolerance: 6.885e-01\n",
      "  model = cd_fast.enet_coordinate_descent(\n",
      "/Users/user/opt/miniconda3/envs/myenv/lib/python3.9/site-packages/sklearn/linear_model/_coordinate_descent.py:645: ConvergenceWarning: Objective did not converge. You might want to increase the number of iterations, check the scale of the features or consider increasing regularisation. Duality gap: 1.641e+00, tolerance: 6.401e-01\n",
      "  model = cd_fast.enet_coordinate_descent(\n",
      "/Users/user/opt/miniconda3/envs/myenv/lib/python3.9/site-packages/sklearn/linear_model/_coordinate_descent.py:645: ConvergenceWarning: Objective did not converge. You might want to increase the number of iterations, check the scale of the features or consider increasing regularisation. Duality gap: 2.144e+00, tolerance: 7.172e-01\n",
      "  model = cd_fast.enet_coordinate_descent(\n",
      "/Users/user/opt/miniconda3/envs/myenv/lib/python3.9/site-packages/sklearn/linear_model/_coordinate_descent.py:645: ConvergenceWarning: Objective did not converge. You might want to increase the number of iterations, check the scale of the features or consider increasing regularisation. Duality gap: 2.227e+01, tolerance: 6.885e-01\n",
      "  model = cd_fast.enet_coordinate_descent(\n",
      "/Users/user/opt/miniconda3/envs/myenv/lib/python3.9/site-packages/sklearn/linear_model/_coordinate_descent.py:645: ConvergenceWarning: Objective did not converge. You might want to increase the number of iterations, check the scale of the features or consider increasing regularisation. Duality gap: 1.641e+00, tolerance: 6.401e-01\n",
      "  model = cd_fast.enet_coordinate_descent(\n",
      "/Users/user/opt/miniconda3/envs/myenv/lib/python3.9/site-packages/sklearn/linear_model/_coordinate_descent.py:645: ConvergenceWarning: Objective did not converge. You might want to increase the number of iterations, check the scale of the features or consider increasing regularisation. Duality gap: 2.145e+00, tolerance: 7.172e-01\n",
      "  model = cd_fast.enet_coordinate_descent(\n",
      "/Users/user/opt/miniconda3/envs/myenv/lib/python3.9/site-packages/sklearn/linear_model/_coordinate_descent.py:645: ConvergenceWarning: Objective did not converge. You might want to increase the number of iterations, check the scale of the features or consider increasing regularisation. Duality gap: 2.227e+01, tolerance: 6.885e-01\n",
      "  model = cd_fast.enet_coordinate_descent(\n",
      "/Users/user/opt/miniconda3/envs/myenv/lib/python3.9/site-packages/sklearn/linear_model/_coordinate_descent.py:645: ConvergenceWarning: Objective did not converge. You might want to increase the number of iterations, check the scale of the features or consider increasing regularisation. Duality gap: 2.228e+01, tolerance: 6.885e-01\n",
      "  model = cd_fast.enet_coordinate_descent(\n",
      "/Users/user/opt/miniconda3/envs/myenv/lib/python3.9/site-packages/sklearn/linear_model/_coordinate_descent.py:645: ConvergenceWarning: Objective did not converge. You might want to increase the number of iterations, check the scale of the features or consider increasing regularisation. Duality gap: 2.228e+01, tolerance: 6.885e-01\n",
      "  model = cd_fast.enet_coordinate_descent(\n"
     ]
    },
    {
     "data": {
      "text/plain": [
       "GridSearchCV(cv=5, estimator=Lasso(alpha=0.05),\n",
       "             param_grid=[{'alpha': array([1.00000000e-06, 1.14975700e-06, 1.32194115e-06, 1.51991108e-06,\n",
       "       1.74752840e-06, 2.00923300e-06, 2.31012970e-06, 2.65608778e-06,\n",
       "       3.05385551e-06, 3.51119173e-06, 4.03701726e-06, 4.64158883e-06,\n",
       "       5.33669923e-06, 6.13590727e-06, 7.05480231e-06, 8.11130831e-06,\n",
       "       9.32603347e-06, 1.07226722e-05, 1.2328...\n",
       "       7.05480231e-02, 8.11130831e-02, 9.32603347e-02, 1.07226722e-01,\n",
       "       1.23284674e-01, 1.41747416e-01, 1.62975083e-01, 1.87381742e-01,\n",
       "       2.15443469e-01, 2.47707636e-01, 2.84803587e-01, 3.27454916e-01,\n",
       "       3.76493581e-01, 4.32876128e-01, 4.97702356e-01, 5.72236766e-01,\n",
       "       6.57933225e-01, 7.56463328e-01, 8.69749003e-01, 1.00000000e+00])}],\n",
       "             return_train_score=True, scoring='neg_mean_squared_error')"
      ]
     },
     "execution_count": 206,
     "metadata": {},
     "output_type": "execute_result"
    }
   ],
   "source": [
    "from sklearn.model_selection import GridSearchCV\n",
    "model = GridSearchCV(estimator=lasso, param_grid= tuned_parameters, \n",
    "                     scoring=\"neg_mean_squared_error\", cv=5, return_train_score= True)\n",
    "model.fit(X,y)"
   ]
  },
  {
   "cell_type": "code",
   "execution_count": 211,
   "id": "6a870028",
   "metadata": {},
   "outputs": [],
   "source": [
    "test_score = model.cv_results_[\"mean_test_score\"]\n",
    "train_scores = model.cv_results_['std_test_score']"
   ]
  },
  {
   "cell_type": "code",
   "execution_count": 212,
   "id": "3ef37534",
   "metadata": {},
   "outputs": [
    {
     "name": "stdout",
     "output_type": "stream",
     "text": [
      "{'alpha': 0.12328467394420659} -3.743294901559114\n"
     ]
    }
   ],
   "source": [
    "print(model.best_params_, model.best_score_)"
   ]
  },
  {
   "cell_type": "markdown",
   "id": "4a3c9ccd",
   "metadata": {},
   "source": [
    "### Implementing Regularization with a Logistic Regression Classifier"
   ]
  },
  {
   "cell_type": "code",
   "execution_count": null,
   "id": "374a5785",
   "metadata": {},
   "outputs": [],
   "source": []
  }
 ],
 "metadata": {
  "kernelspec": {
   "display_name": "Python 3",
   "language": "python",
   "name": "python3"
  },
  "language_info": {
   "codemirror_mode": {
    "name": "ipython",
    "version": 3
   },
   "file_extension": ".py",
   "mimetype": "text/x-python",
   "name": "python",
   "nbconvert_exporter": "python",
   "pygments_lexer": "ipython3",
   "version": "3.9.6"
  }
 },
 "nbformat": 4,
 "nbformat_minor": 5
}
